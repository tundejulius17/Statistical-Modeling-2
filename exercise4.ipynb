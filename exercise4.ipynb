{
 "cells": [
  {
   "cell_type": "code",
   "execution_count": 1,
   "id": "outside-procedure",
   "metadata": {},
   "outputs": [
    {
     "data": {
      "text/plain": [
       "Response Y1 :\n",
       "\n",
       "Call:\n",
       "lm(formula = Y1 ~ factor(gender) - 1)\n",
       "\n",
       "Residuals:\n",
       "    Min      1Q  Median      3Q     Max \n",
       "-348.42 -103.76   -8.71   77.94  397.80 \n",
       "\n",
       "Coefficients:\n",
       "                   Estimate Std. Error t value Pr(>|t|)    \n",
       "factor(gender)boy    295.33      22.14  13.340  < 2e-16 ***\n",
       "factor(gender)girl   -76.29      18.81  -4.055 0.000106 ***\n",
       "---\n",
       "Signif. codes:  0 '***' 0.001 '**' 0.01 '*' 0.05 '.' 0.1 ' ' 1\n",
       "\n",
       "Residual standard error: 138.3 on 91 degrees of freedom\n",
       "Multiple R-squared:  0.6811,\tAdjusted R-squared:  0.6741 \n",
       "F-statistic: 97.19 on 2 and 91 DF,  p-value: < 2.2e-16\n",
       "\n",
       "\n",
       "Response t :\n",
       "\n",
       "Call:\n",
       "lm(formula = t ~ factor(gender) - 1)\n",
       "\n",
       "Residuals:\n",
       "    Min      1Q  Median      3Q     Max \n",
       "-87.879 -17.405   3.565  25.654  75.043 \n",
       "\n",
       "Coefficients:\n",
       "                   Estimate Std. Error t value Pr(>|t|)    \n",
       "factor(gender)boy   -45.991      5.003  -9.192 1.25e-14 ***\n",
       "factor(gender)girl   37.647      4.252   8.854 6.39e-14 ***\n",
       "---\n",
       "Signif. codes:  0 '***' 0.001 '**' 0.01 '*' 0.05 '.' 0.1 ' ' 1\n",
       "\n",
       "Residual standard error: 31.25 on 91 degrees of freedom\n",
       "Multiple R-squared:  0.6416,\tAdjusted R-squared:  0.6337 \n",
       "F-statistic: 81.44 on 2 and 91 DF,  p-value: < 2.2e-16\n",
       "\n",
       "\n",
       "Response Y3 :\n",
       "\n",
       "Call:\n",
       "lm(formula = Y3 ~ factor(gender) - 1)\n",
       "\n",
       "Residuals:\n",
       "    Min      1Q  Median      3Q     Max \n",
       "-5.1240 -1.9579 -0.1355  1.2181  6.2083 \n",
       "\n",
       "Coefficients:\n",
       "                   Estimate Std. Error t value Pr(>|t|)    \n",
       "factor(gender)boy    4.1516     0.3589  11.568  < 2e-16 ***\n",
       "factor(gender)girl  -1.9169     0.3050  -6.285 1.11e-08 ***\n",
       "---\n",
       "Signif. codes:  0 '***' 0.001 '**' 0.01 '*' 0.05 '.' 0.1 ' ' 1\n",
       "\n",
       "Residual standard error: 2.241 on 91 degrees of freedom\n",
       "Multiple R-squared:  0.6557,\tAdjusted R-squared:  0.6482 \n",
       "F-statistic: 86.66 on 2 and 91 DF,  p-value: < 2.2e-16\n",
       "\n",
       "\n",
       "Response Y4 :\n",
       "\n",
       "Call:\n",
       "lm(formula = Y4 ~ factor(gender) - 1)\n",
       "\n",
       "Residuals:\n",
       "      Min        1Q    Median        3Q       Max \n",
       "-0.141788 -0.029246 -0.002342  0.042724  0.112220 \n",
       "\n",
       "Coefficients:\n",
       "                    Estimate Std. Error t value Pr(>|t|)    \n",
       "factor(gender)boy  -0.108517   0.008339 -13.013  < 2e-16 ***\n",
       "factor(gender)girl  0.031856   0.007087   4.495 2.04e-05 ***\n",
       "---\n",
       "Signif. codes:  0 '***' 0.001 '**' 0.01 '*' 0.05 '.' 0.1 ' ' 1\n",
       "\n",
       "Residual standard error: 0.05208 on 91 degrees of freedom\n",
       "Multiple R-squared:  0.6756,\tAdjusted R-squared:  0.6685 \n",
       "F-statistic: 94.77 on 2 and 91 DF,  p-value: < 2.2e-16\n",
       "\n"
      ]
     },
     "metadata": {},
     "output_type": "display_data"
    },
    {
     "data": {
      "text/html": [
       "<table class=\"dataframe\">\n",
       "<caption>A matrix: 2 × 4 of type dbl</caption>\n",
       "<thead>\n",
       "\t<tr><th></th><th scope=col></th><th scope=col>t</th><th scope=col></th><th scope=col></th></tr>\n",
       "</thead>\n",
       "<tbody>\n",
       "\t<tr><th scope=row>factor(gender)boy</th><td>295.32765</td><td>-45.99102</td><td> 4.151625</td><td>-0.10851679</td></tr>\n",
       "\t<tr><th scope=row>factor(gender)girl</th><td>-76.29141</td><td> 37.64654</td><td>-1.916863</td><td> 0.03185559</td></tr>\n",
       "</tbody>\n",
       "</table>\n"
      ],
      "text/latex": [
       "A matrix: 2 × 4 of type dbl\n",
       "\\begin{tabular}{r|llll}\n",
       "  &  & t &  & \\\\\n",
       "\\hline\n",
       "\tfactor(gender)boy & 295.32765 & -45.99102 &  4.151625 & -0.10851679\\\\\n",
       "\tfactor(gender)girl & -76.29141 &  37.64654 & -1.916863 &  0.03185559\\\\\n",
       "\\end{tabular}\n"
      ],
      "text/markdown": [
       "\n",
       "A matrix: 2 × 4 of type dbl\n",
       "\n",
       "| <!--/--> | <!----> | t | <!----> | <!----> |\n",
       "|---|---|---|---|---|\n",
       "| factor(gender)boy | 295.32765 | -45.99102 |  4.151625 | -0.10851679 |\n",
       "| factor(gender)girl | -76.29141 |  37.64654 | -1.916863 |  0.03185559 |\n",
       "\n"
      ],
      "text/plain": [
       "                             t                              \n",
       "factor(gender)boy  295.32765 -45.99102  4.151625 -0.10851679\n",
       "factor(gender)girl -76.29141  37.64654 -1.916863  0.03185559"
      ]
     },
     "metadata": {},
     "output_type": "display_data"
    }
   ],
   "source": [
    "\n",
    "\n",
    "############################\n",
    "### Assignment 4\n",
    "\n",
    "\n",
    "### 1\n",
    "\n",
    "growth.height <- read.table(\"growthheight.txt\", sep=\"\\t\", dec=\".\", header=TRUE)\n",
    "attach(growth.height)\n",
    "\n",
    "Y <- cbind(Y10, Y11, Y12, Y13, Y14, Y15, Y16, Y17, Y18)\n",
    "t <- c(10, 11, 12, 13, 14, 15, 16, 17, 18)\n",
    "T <- cbind(rep(1, 9), t, t^2, t^3)\n",
    "\n",
    "\n",
    "### a)\n",
    "\n",
    "Y.star <- Y %*% T %*% solve(t(T) %*% T)\n",
    "growth.model <- lm(Y.star ~ factor(gender) - 1)\n",
    "summary(growth.model)\n",
    "Theta <- coef(growth.model)\n",
    "Theta\n",
    "\n",
    "#                                     t                      \n",
    "# factor(gender)boy  295.32765 -45.99102  4.151625 -0.10851679\n",
    "# factor(gender)girl -76.29141  37.64654 -1.916863  0.03185559"
   ]
  },
  {
   "cell_type": "code",
   "execution_count": 2,
   "id": "gross-stomach",
   "metadata": {},
   "outputs": [],
   "source": [
    "### b)\n",
    "\n",
    "t19 <- c(1, 19, 19^2, 19^3)\n",
    "xf <- t(cbind(0, 1))\n",
    "BP <- t19 %*% t(Theta) %*% xf\n",
    "\n",
    "# [1,] 165.5028\n"
   ]
  },
  {
   "cell_type": "code",
   "execution_count": 3,
   "id": "responsible-tuesday",
   "metadata": {},
   "outputs": [
    {
     "data": {
      "text/html": [
       "<table class=\"dataframe\">\n",
       "<caption>A matrix: 9 × 1 of type dbl</caption>\n",
       "<tbody>\n",
       "\t<tr><td>132.5153</td></tr>\n",
       "\t<tr><td>139.5935</td></tr>\n",
       "\t<tr><td>144.9964</td></tr>\n",
       "\t<tr><td>149.2186</td></tr>\n",
       "\t<tr><td>152.4613</td></tr>\n",
       "\t<tr><td>155.4328</td></tr>\n",
       "\t<tr><td>157.3289</td></tr>\n",
       "\t<tr><td>157.9715</td></tr>\n",
       "\t<tr><td>157.7758</td></tr>\n",
       "</tbody>\n",
       "</table>\n"
      ],
      "text/latex": [
       "A matrix: 9 × 1 of type dbl\n",
       "\\begin{tabular}{l}\n",
       "\t 132.5153\\\\\n",
       "\t 139.5935\\\\\n",
       "\t 144.9964\\\\\n",
       "\t 149.2186\\\\\n",
       "\t 152.4613\\\\\n",
       "\t 155.4328\\\\\n",
       "\t 157.3289\\\\\n",
       "\t 157.9715\\\\\n",
       "\t 157.7758\\\\\n",
       "\\end{tabular}\n"
      ],
      "text/markdown": [
       "\n",
       "A matrix: 9 × 1 of type dbl\n",
       "\n",
       "| 132.5153 |\n",
       "| 139.5935 |\n",
       "| 144.9964 |\n",
       "| 149.2186 |\n",
       "| 152.4613 |\n",
       "| 155.4328 |\n",
       "| 157.3289 |\n",
       "| 157.9715 |\n",
       "| 157.7758 |\n",
       "\n"
      ],
      "text/plain": [
       "      [,1]    \n",
       " [1,] 132.5153\n",
       " [2,] 139.5935\n",
       " [3,] 144.9964\n",
       " [4,] 149.2186\n",
       " [5,] 152.4613\n",
       " [6,] 155.4328\n",
       " [7,] 157.3289\n",
       " [8,] 157.9715\n",
       " [9,] 157.7758"
      ]
     },
     "metadata": {},
     "output_type": "display_data"
    },
    {
     "data": {
      "text/html": [
       "<table class=\"dataframe\">\n",
       "<caption>A matrix: 9 × 1 of type dbl</caption>\n",
       "<tbody>\n",
       "\t<tr><td>148.1712</td></tr>\n",
       "\t<tr><td>156.9662</td></tr>\n",
       "\t<tr><td>163.9741</td></tr>\n",
       "\t<tr><td>169.0823</td></tr>\n",
       "\t<tr><td>172.4722</td></tr>\n",
       "\t<tr><td>173.8175</td></tr>\n",
       "\t<tr><td>174.3047</td></tr>\n",
       "\t<tr><td>174.4942</td></tr>\n",
       "\t<tr><td>174.3532</td></tr>\n",
       "</tbody>\n",
       "</table>\n"
      ],
      "text/latex": [
       "A matrix: 9 × 1 of type dbl\n",
       "\\begin{tabular}{l}\n",
       "\t 148.1712\\\\\n",
       "\t 156.9662\\\\\n",
       "\t 163.9741\\\\\n",
       "\t 169.0823\\\\\n",
       "\t 172.4722\\\\\n",
       "\t 173.8175\\\\\n",
       "\t 174.3047\\\\\n",
       "\t 174.4942\\\\\n",
       "\t 174.3532\\\\\n",
       "\\end{tabular}\n"
      ],
      "text/markdown": [
       "\n",
       "A matrix: 9 × 1 of type dbl\n",
       "\n",
       "| 148.1712 |\n",
       "| 156.9662 |\n",
       "| 163.9741 |\n",
       "| 169.0823 |\n",
       "| 172.4722 |\n",
       "| 173.8175 |\n",
       "| 174.3047 |\n",
       "| 174.4942 |\n",
       "| 174.3532 |\n",
       "\n"
      ],
      "text/plain": [
       "      [,1]    \n",
       " [1,] 148.1712\n",
       " [2,] 156.9662\n",
       " [3,] 163.9741\n",
       " [4,] 169.0823\n",
       " [5,] 172.4722\n",
       " [6,] 173.8175\n",
       " [7,] 174.3047\n",
       " [8,] 174.4942\n",
       " [9,] 174.3532"
      ]
     },
     "metadata": {},
     "output_type": "display_data"
    },
    {
     "data": {
      "text/html": [
       "<table class=\"dataframe\">\n",
       "<caption>A matrix: 9 × 1 of type dbl</caption>\n",
       "<tbody>\n",
       "\t<tr><td>134.2085</td></tr>\n",
       "\t<tr><td>138.6188</td></tr>\n",
       "\t<tr><td>144.2300</td></tr>\n",
       "\t<tr><td>150.6933</td></tr>\n",
       "\t<tr><td>157.3655</td></tr>\n",
       "\t<tr><td>164.1101</td></tr>\n",
       "\t<tr><td>169.2829</td></tr>\n",
       "\t<tr><td>171.8655</td></tr>\n",
       "\t<tr><td>171.4291</td></tr>\n",
       "</tbody>\n",
       "</table>\n"
      ],
      "text/latex": [
       "A matrix: 9 × 1 of type dbl\n",
       "\\begin{tabular}{l}\n",
       "\t 134.2085\\\\\n",
       "\t 138.6188\\\\\n",
       "\t 144.2300\\\\\n",
       "\t 150.6933\\\\\n",
       "\t 157.3655\\\\\n",
       "\t 164.1101\\\\\n",
       "\t 169.2829\\\\\n",
       "\t 171.8655\\\\\n",
       "\t 171.4291\\\\\n",
       "\\end{tabular}\n"
      ],
      "text/markdown": [
       "\n",
       "A matrix: 9 × 1 of type dbl\n",
       "\n",
       "| 134.2085 |\n",
       "| 138.6188 |\n",
       "| 144.2300 |\n",
       "| 150.6933 |\n",
       "| 157.3655 |\n",
       "| 164.1101 |\n",
       "| 169.2829 |\n",
       "| 171.8655 |\n",
       "| 171.4291 |\n",
       "\n"
      ],
      "text/plain": [
       "      [,1]    \n",
       " [1,] 134.2085\n",
       " [2,] 138.6188\n",
       " [3,] 144.2300\n",
       " [4,] 150.6933\n",
       " [5,] 157.3655\n",
       " [6,] 164.1101\n",
       " [7,] 169.2829\n",
       " [8,] 171.8655\n",
       " [9,] 171.4291"
      ]
     },
     "metadata": {},
     "output_type": "display_data"
    },
    {
     "data": {
      "text/html": [
       "<table class=\"dataframe\">\n",
       "<caption>A matrix: 9 × 1 of type dbl</caption>\n",
       "<tbody>\n",
       "\t<tr><td>149.9178</td></tr>\n",
       "\t<tr><td>156.0555</td></tr>\n",
       "\t<tr><td>163.2747</td></tr>\n",
       "\t<tr><td>170.6220</td></tr>\n",
       "\t<tr><td>177.4381</td></tr>\n",
       "\t<tr><td>182.5575</td></tr>\n",
       "\t<tr><td>186.3222</td></tr>\n",
       "\t<tr><td>188.4484</td></tr>\n",
       "\t<tr><td>188.0626</td></tr>\n",
       "</tbody>\n",
       "</table>\n"
      ],
      "text/latex": [
       "A matrix: 9 × 1 of type dbl\n",
       "\\begin{tabular}{l}\n",
       "\t 149.9178\\\\\n",
       "\t 156.0555\\\\\n",
       "\t 163.2747\\\\\n",
       "\t 170.6220\\\\\n",
       "\t 177.4381\\\\\n",
       "\t 182.5575\\\\\n",
       "\t 186.3222\\\\\n",
       "\t 188.4484\\\\\n",
       "\t 188.0626\\\\\n",
       "\\end{tabular}\n"
      ],
      "text/markdown": [
       "\n",
       "A matrix: 9 × 1 of type dbl\n",
       "\n",
       "| 149.9178 |\n",
       "| 156.0555 |\n",
       "| 163.2747 |\n",
       "| 170.6220 |\n",
       "| 177.4381 |\n",
       "| 182.5575 |\n",
       "| 186.3222 |\n",
       "| 188.4484 |\n",
       "| 188.0626 |\n",
       "\n"
      ],
      "text/plain": [
       "      [,1]    \n",
       " [1,] 149.9178\n",
       " [2,] 156.0555\n",
       " [3,] 163.2747\n",
       " [4,] 170.6220\n",
       " [5,] 177.4381\n",
       " [6,] 182.5575\n",
       " [7,] 186.3222\n",
       " [8,] 188.4484\n",
       " [9,] 188.0626"
      ]
     },
     "metadata": {},
     "output_type": "display_data"
    },
    {
     "data": {
      "image/png": "[encoded data removed]",
      "text/plain": [
       "plot without title"
      ]
     },
     "metadata": {
      "image/png": {
       "height": 420,
       "width": 420
      }
     },
     "output_type": "display_data"
    },
    {
     "data": {
      "image/png": "[encoded data removed]",
      "text/plain": [
       "plot without title"
      ]
     },
     "metadata": {
      "image/png": {
       "height": 420,
       "width": 420
      }
     },
     "output_type": "display_data"
    }
   ],
   "source": [
    "### c)\n",
    "\n",
    "# for girl\n",
    "xf <- t(cbind(0, 1))\n",
    "BP.G <- T%*%t(Theta)%*%xf\n",
    "\n",
    "#       [,1]\n",
    "# [1,] 140.3433\n",
    "# [2,] 148.2799\n",
    "# [3,] 154.4852\n",
    "# [4,] 159.1505\n",
    "# [5,] 162.4667\n",
    "# [6,] 164.6251\n",
    "# [7,] 165.8168\n",
    "# [8,] 166.2329\n",
    "# [9,] 166.0645\n",
    "\n",
    "# for boy\n",
    "xf <- t(cbind(1, 0))\n",
    "BP.B <- T%*%t(Theta)%*%xf\n",
    "\n",
    "# \n",
    "#       [,1]\n",
    "# [1,] 142.0631\n",
    "# [2,] 147.3372\n",
    "# [3,] 153.7524\n",
    "# [4,] 160.6576\n",
    "# [5,] 167.4018\n",
    "# [6,] 173.3338\n",
    "# [7,] 177.8026\n",
    "# [8,] 180.1569\n",
    "# [9,] 179.7459\n",
    "\n",
    "\n",
    "plot(t, c(BP.G[-9], BP.G[9]+20), type = \"n\", xlab = \"age\", ylab = \"height\")\n",
    "lines(t, BP.G, col=\"red\", type = \"b\", pch=19)\n",
    "lines(t, BP.B, col=\"blue\", type = \"b\", pch=19)\n",
    "legend(10, 180, legend = c(\"girl\", \"boy\"), col = c(\"red\", \"blue\"), lty = 1, cex=0.8)\n",
    "\n",
    "# prediction intervals\n",
    "x1<-t(cbind(0,1))  # girls\n",
    "x2<-t(cbind(1,0))  # boys\n",
    "\n",
    "X<-model.matrix(growth.model)\n",
    "E <- Y - X %*% Theta %*% t(T)\n",
    "Sigma<-t(E)%*%E/growth.model$df\n",
    "\n",
    "PT <- T %*% solve(t(T) %*% T) %*% t(T)\n",
    "cov.error1<-Sigma+(as.numeric(t(x1)%*%solve(t(X)%*%X)%*%x1)*PT%*%Sigma%*%PT)\n",
    "cov.error2<-Sigma+(as.numeric(t(x2)%*%solve(t(X)%*%X)%*%x2)*PT%*%Sigma%*%PT)\n",
    "\n",
    "# prediction intervals for girls\n",
    "lower.bound1 <- BP.G - qnorm(0.9) * diag(cov.error1)^0.5\n",
    "upper.bound1 <- BP.G + qnorm(0.9) * diag(cov.error1)^0.5\n",
    "lower.bound1\n",
    "#         [,1]\n",
    "# [1,] 132.5153\n",
    "# [2,] 139.5935\n",
    "# [3,] 144.9964\n",
    "# [4,] 149.2186\n",
    "# [5,] 152.4613\n",
    "# [6,] 155.4328\n",
    "# [7,] 157.3289\n",
    "# [8,] 157.9715\n",
    "# [9,] 157.7758\n",
    "\n",
    "upper.bound1\n",
    "#         [,1]\n",
    "# [1,] 148.1712\n",
    "# [2,] 156.9662\n",
    "# [3,] 163.9741\n",
    "# [4,] 169.0823\n",
    "# [5,] 172.4722\n",
    "# [6,] 173.8175\n",
    "# [7,] 174.3047\n",
    "# [8,] 174.4942\n",
    "# [9,] 174.3532\n",
    "\n",
    "# # prediction intervals for boys\n",
    "lower.bound2<-BP.B-qnorm(0.9)*diag(cov.error2)^0.5\n",
    "upper.bound2<-BP.B+qnorm(0.9)*diag(cov.error2)^0.5\n",
    "\n",
    "lower.bound2\n",
    "#       [,1]\n",
    "# [1,] 134.2085\n",
    "# [2,] 138.6188\n",
    "# [3,] 144.2300\n",
    "# [4,] 150.6933\n",
    "# [5,] 157.3655\n",
    "# [6,] 164.1101\n",
    "# [7,] 169.2829\n",
    "# [8,] 171.8655\n",
    "# [9,] 171.4291\n",
    "\n",
    "upper.bound2\n",
    "#       [,1]\n",
    "# [1,] 149.9178\n",
    "# [2,] 156.0555\n",
    "# [3,] 163.2747\n",
    "# [4,] 170.6220\n",
    "# [5,] 177.4381\n",
    "# [6,] 182.5575\n",
    "# [7,] 186.3222\n",
    "# [8,] 188.4484\n",
    "# [9,] 188.0626\n",
    "\n",
    "plot(c(10, 18), c(100, 200), type = \"n\", xlab = \"age\", ylab = \"height\")\n",
    "lines(t, lower.bound1, col=\"red\", lty=3, type = \"b\", pch=19)\n",
    "lines(t, upper.bound1, col=\"red\", lty=3, type = \"b\", pch=19)\n",
    "lines(t, lower.bound2, col=\"blue\", lty=3, type = \"b\", pch=19)\n",
    "lines(t, upper.bound2, col=\"blue\", lty=3, type = \"b\", pch=19)\n"
   ]
  },
  {
   "cell_type": "code",
   "execution_count": 4,
   "id": "young-liberty",
   "metadata": {},
   "outputs": [
    {
     "data": {
      "text/plain": [
       "Response Y1 :\n",
       "\n",
       "Call:\n",
       "lm(formula = Y1 ~ factor(gender) - 1)\n",
       "\n",
       "Residuals:\n",
       "    Min      1Q  Median      3Q     Max \n",
       "-348.42 -103.76   -8.71   77.94  397.80 \n",
       "\n",
       "Coefficients:\n",
       "                   Estimate Std. Error t value Pr(>|t|)    \n",
       "factor(gender)boy    295.33      22.14  13.340  < 2e-16 ***\n",
       "factor(gender)girl   -76.29      18.81  -4.055 0.000106 ***\n",
       "---\n",
       "Signif. codes:  0 '***' 0.001 '**' 0.01 '*' 0.05 '.' 0.1 ' ' 1\n",
       "\n",
       "Residual standard error: 138.3 on 91 degrees of freedom\n",
       "Multiple R-squared:  0.6811,\tAdjusted R-squared:  0.6741 \n",
       "F-statistic: 97.19 on 2 and 91 DF,  p-value: < 2.2e-16\n",
       "\n",
       "\n",
       "Response t :\n",
       "\n",
       "Call:\n",
       "lm(formula = t ~ factor(gender) - 1)\n",
       "\n",
       "Residuals:\n",
       "    Min      1Q  Median      3Q     Max \n",
       "-87.879 -17.405   3.565  25.654  75.043 \n",
       "\n",
       "Coefficients:\n",
       "                   Estimate Std. Error t value Pr(>|t|)    \n",
       "factor(gender)boy   -45.991      5.003  -9.192 1.25e-14 ***\n",
       "factor(gender)girl   37.647      4.252   8.854 6.39e-14 ***\n",
       "---\n",
       "Signif. codes:  0 '***' 0.001 '**' 0.01 '*' 0.05 '.' 0.1 ' ' 1\n",
       "\n",
       "Residual standard error: 31.25 on 91 degrees of freedom\n",
       "Multiple R-squared:  0.6416,\tAdjusted R-squared:  0.6337 \n",
       "F-statistic: 81.44 on 2 and 91 DF,  p-value: < 2.2e-16\n",
       "\n",
       "\n",
       "Response Y3 :\n",
       "\n",
       "Call:\n",
       "lm(formula = Y3 ~ factor(gender) - 1)\n",
       "\n",
       "Residuals:\n",
       "    Min      1Q  Median      3Q     Max \n",
       "-5.1240 -1.9579 -0.1355  1.2181  6.2083 \n",
       "\n",
       "Coefficients:\n",
       "                   Estimate Std. Error t value Pr(>|t|)    \n",
       "factor(gender)boy    4.1516     0.3589  11.568  < 2e-16 ***\n",
       "factor(gender)girl  -1.9169     0.3050  -6.285 1.11e-08 ***\n",
       "---\n",
       "Signif. codes:  0 '***' 0.001 '**' 0.01 '*' 0.05 '.' 0.1 ' ' 1\n",
       "\n",
       "Residual standard error: 2.241 on 91 degrees of freedom\n",
       "Multiple R-squared:  0.6557,\tAdjusted R-squared:  0.6482 \n",
       "F-statistic: 86.66 on 2 and 91 DF,  p-value: < 2.2e-16\n",
       "\n",
       "\n",
       "Response Y4 :\n",
       "\n",
       "Call:\n",
       "lm(formula = Y4 ~ factor(gender) - 1)\n",
       "\n",
       "Residuals:\n",
       "      Min        1Q    Median        3Q       Max \n",
       "-0.141788 -0.029246 -0.002342  0.042724  0.112220 \n",
       "\n",
       "Coefficients:\n",
       "                    Estimate Std. Error t value Pr(>|t|)    \n",
       "factor(gender)boy  -0.108517   0.008339 -13.013  < 2e-16 ***\n",
       "factor(gender)girl  0.031856   0.007087   4.495 2.04e-05 ***\n",
       "---\n",
       "Signif. codes:  0 '***' 0.001 '**' 0.01 '*' 0.05 '.' 0.1 ' ' 1\n",
       "\n",
       "Residual standard error: 0.05208 on 91 degrees of freedom\n",
       "Multiple R-squared:  0.6756,\tAdjusted R-squared:  0.6685 \n",
       "F-statistic: 94.77 on 2 and 91 DF,  p-value: < 2.2e-16\n",
       "\n"
      ]
     },
     "metadata": {},
     "output_type": "display_data"
    },
    {
     "data": {
      "text/plain": [
       "Response Y1 :\n",
       "\n",
       "Call:\n",
       "lm(formula = Y1 ~ 1)\n",
       "\n",
       "Residuals:\n",
       "    Min      1Q  Median      3Q     Max \n",
       "-389.60 -232.23  -29.63  218.35  406.46 \n",
       "\n",
       "Coefficients:\n",
       "            Estimate Std. Error t value Pr(>|t|)   \n",
       "(Intercept)    79.55      23.85   3.335  0.00123 **\n",
       "---\n",
       "Signif. codes:  0 '***' 0.001 '**' 0.01 '*' 0.05 '.' 0.1 ' ' 1\n",
       "\n",
       "Residual standard error: 230 on 92 degrees of freedom\n",
       "\n",
       "\n",
       "Response t :\n",
       "\n",
       "Call:\n",
       "lm(formula = t ~ 1)\n",
       "\n",
       "Residuals:\n",
       "    Min      1Q  Median      3Q     Max \n",
       "-91.594 -44.998   5.497  52.111  87.777 \n",
       "\n",
       "Coefficients:\n",
       "            Estimate Std. Error t value Pr(>|t|)\n",
       "(Intercept)    2.573      5.376   0.479    0.633\n",
       "\n",
       "Residual standard error: 51.84 on 92 degrees of freedom\n",
       "\n",
       "\n",
       "Response Y3 :\n",
       "\n",
       "Call:\n",
       "lm(formula = Y3 ~ 1)\n",
       "\n",
       "Residuals:\n",
       "    Min      1Q  Median      3Q     Max \n",
       "-6.3493 -3.7292 -0.2057  3.3882  6.6497 \n",
       "\n",
       "Coefficients:\n",
       "            Estimate Std. Error t value Pr(>|t|)\n",
       "(Intercept)   0.6280     0.3884   1.617    0.109\n",
       "\n",
       "Residual standard error: 3.746 on 92 degrees of freedom\n",
       "\n",
       "\n",
       "Response Y4 :\n",
       "\n",
       "Call:\n",
       "lm(formula = Y4 ~ 1)\n",
       "\n",
       "Residuals:\n",
       "      Min        1Q    Median        3Q       Max \n",
       "-0.154808 -0.083848  0.000916  0.085259  0.147549 \n",
       "\n",
       "Coefficients:\n",
       "            Estimate Std. Error t value Pr(>|t|)   \n",
       "(Intercept) -0.02701    0.00900  -3.001  0.00346 **\n",
       "---\n",
       "Signif. codes:  0 '***' 0.001 '**' 0.01 '*' 0.05 '.' 0.1 ' ' 1\n",
       "\n",
       "Residual standard error: 0.08679 on 92 degrees of freedom\n",
       "\n"
      ]
     },
     "metadata": {},
     "output_type": "display_data"
    },
    {
     "data": {
      "text/html": [
       "<table class=\"dataframe\">\n",
       "<caption>A matrix: 1 × 4 of type dbl</caption>\n",
       "<thead>\n",
       "\t<tr><th></th><th scope=col></th><th scope=col>t</th><th scope=col></th><th scope=col></th></tr>\n",
       "</thead>\n",
       "<tbody>\n",
       "\t<tr><th scope=row>(Intercept)</th><td>79.54884</td><td>2.572723</td><td>0.6279869</td><td>-0.02701025</td></tr>\n",
       "</tbody>\n",
       "</table>\n"
      ],
      "text/latex": [
       "A matrix: 1 × 4 of type dbl\n",
       "\\begin{tabular}{r|llll}\n",
       "  &  & t &  & \\\\\n",
       "\\hline\n",
       "\t(Intercept) & 79.54884 & 2.572723 & 0.6279869 & -0.02701025\\\\\n",
       "\\end{tabular}\n"
      ],
      "text/markdown": [
       "\n",
       "A matrix: 1 × 4 of type dbl\n",
       "\n",
       "| <!--/--> | <!----> | t | <!----> | <!----> |\n",
       "|---|---|---|---|---|\n",
       "| (Intercept) | 79.54884 | 2.572723 | 0.6279869 | -0.02701025 |\n",
       "\n"
      ],
      "text/plain": [
       "                     t                             \n",
       "(Intercept) 79.54884 2.572723 0.6279869 -0.02701025"
      ]
     },
     "metadata": {},
     "output_type": "display_data"
    },
    {
     "data": {
      "text/html": [
       "78.6102423877805"
      ],
      "text/latex": [
       "78.6102423877805"
      ],
      "text/markdown": [
       "78.6102423877805"
      ],
      "text/plain": [
       "[1] 78.61024"
      ]
     },
     "metadata": {},
     "output_type": "display_data"
    },
    {
     "data": {
      "text/html": [
       "3.15561052242814e-28"
      ],
      "text/latex": [
       "3.15561052242814e-28"
      ],
      "text/markdown": [
       "3.15561052242814e-28"
      ],
      "text/plain": [
       "[1] 3.155611e-28"
      ]
     },
     "metadata": {},
     "output_type": "display_data"
    }
   ],
   "source": [
    "### d)\n",
    "\n",
    "model.H1 <- growth.model\n",
    "summary(model.H1)\n",
    "\n",
    "model.H0 <- lm(Y.star~1)\n",
    "summary(model.H0)\n",
    "coef(model.H0)\n",
    "\n",
    "test <- anova(model.H0, model.H1) \n",
    "\n",
    "test$`approx F`[2] # value of test statistic \n",
    "# [1] 78.61024\n",
    "\n",
    "test$`Pr(>F)`[2] # p-value\n",
    "# 3.15561e-28"
   ]
  },
  {
   "cell_type": "code",
   "execution_count": 5,
   "id": "sitting-craft",
   "metadata": {},
   "outputs": [
    {
     "data": {
      "text/html": [
       "56.6454852391169"
      ],
      "text/latex": [
       "56.6454852391169"
      ],
      "text/markdown": [
       "56.6454852391169"
      ],
      "text/plain": [
       "[1] 56.64549"
      ]
     },
     "metadata": {},
     "output_type": "display_data"
    },
    {
     "data": {
      "text/html": [
       "46.7434820557999"
      ],
      "text/latex": [
       "46.7434820557999"
      ],
      "text/markdown": [
       "46.7434820557999"
      ],
      "text/plain": [
       "[1] 46.74348"
      ]
     },
     "metadata": {},
     "output_type": "display_data"
    },
    {
     "data": {
      "text/html": [
       "5764.11499014898"
      ],
      "text/latex": [
       "5764.11499014898"
      ],
      "text/markdown": [
       "5764.11499014898"
      ],
      "text/plain": [
       "[1] 5764.115"
      ]
     },
     "metadata": {},
     "output_type": "display_data"
    },
    {
     "data": {
      "text/html": [
       "5611.29593289898"
      ],
      "text/latex": [
       "5611.29593289898"
      ],
      "text/markdown": [
       "5611.29593289898"
      ],
      "text/plain": [
       "[1] 5611.296"
      ]
     },
     "metadata": {},
     "output_type": "display_data"
    },
    {
     "data": {
      "text/html": [
       "43.9032367612805"
      ],
      "text/latex": [
       "43.9032367612805"
      ],
      "text/markdown": [
       "43.9032367612805"
      ],
      "text/plain": [
       "[1] 43.90324"
      ]
     },
     "metadata": {},
     "output_type": "display_data"
    },
    {
     "data": {
      "text/html": [
       "1.89844270503296e-33"
      ],
      "text/latex": [
       "1.89844270503296e-33"
      ],
      "text/markdown": [
       "1.89844270503296e-33"
      ],
      "text/plain": [
       "[1] 1.898443e-33"
      ]
     },
     "metadata": {},
     "output_type": "display_data"
    }
   ],
   "source": [
    "### e)\n",
    "\n",
    "X <- model.matrix(growth.model)\n",
    "T1 <- T[, 1:2]\n",
    "Z1 <- T1 %x% X # Kronecker product\n",
    "Z <- T %x% X\n",
    "y <- as.vector(Y) # vectorized\n",
    "\n",
    "model.H0 <- lm(y ~ Z1 - 1)\n",
    "model.H1 <- lm(y ~ Z - 1)\n",
    "\n",
    "MSE.H0<-mean(residuals(model.H0)^2)\n",
    "MSE.H1<-mean(residuals(model.H1)^2)\n",
    "MSE.H0\n",
    "MSE.H1\n",
    "\n",
    "# > MSE.H0\n",
    "# [1] 56.64549\n",
    "# > MSE.H1\n",
    "# [1] 46.74348\n",
    "\n",
    "AIC(model.H0)\n",
    "AIC(model.H1)\n",
    "\n",
    "# > AIC(model.H0)\n",
    "# [1] 5764.115\n",
    "# > AIC(model.H1)\n",
    "# [1] 5611.296\n",
    "\n",
    "test <- anova(model.H0, model.H1) \n",
    "\n",
    "test$F[2] # p-value = 43.90324\n",
    "test$`Pr(>F)`[2] # test statistic = 1.898443e-33\n"
   ]
  },
  {
   "cell_type": "code",
   "execution_count": 6,
   "id": "democratic-manor",
   "metadata": {},
   "outputs": [
    {
     "data": {
      "text/html": [
       "<table class=\"dataframe\">\n",
       "<caption>A matrix: 6 × 1 of type dbl</caption>\n",
       "<tbody>\n",
       "\t<tr><th scope=row>Y13</th><td>168.5741</td></tr>\n",
       "\t<tr><th scope=row>Y14</th><td>169.4342</td></tr>\n",
       "\t<tr><th scope=row>Y15</th><td>169.4717</td></tr>\n",
       "\t<tr><th scope=row>Y16</th><td>169.8358</td></tr>\n",
       "\t<tr><th scope=row>Y17</th><td>169.7788</td></tr>\n",
       "\t<tr><th scope=row>Y18</th><td>169.4727</td></tr>\n",
       "</tbody>\n",
       "</table>\n"
      ],
      "text/latex": [
       "A matrix: 6 × 1 of type dbl\n",
       "\\begin{tabular}{r|l}\n",
       "\tY13 & 168.5741\\\\\n",
       "\tY14 & 169.4342\\\\\n",
       "\tY15 & 169.4717\\\\\n",
       "\tY16 & 169.8358\\\\\n",
       "\tY17 & 169.7788\\\\\n",
       "\tY18 & 169.4727\\\\\n",
       "\\end{tabular}\n"
      ],
      "text/markdown": [
       "\n",
       "A matrix: 6 × 1 of type dbl\n",
       "\n",
       "| Y13 | 168.5741 |\n",
       "| Y14 | 169.4342 |\n",
       "| Y15 | 169.4717 |\n",
       "| Y16 | 169.8358 |\n",
       "| Y17 | 169.7788 |\n",
       "| Y18 | 169.4727 |\n",
       "\n"
      ],
      "text/plain": [
       "    [,1]    \n",
       "Y13 168.5741\n",
       "Y14 169.4342\n",
       "Y15 169.4717\n",
       "Y16 169.8358\n",
       "Y17 169.7788\n",
       "Y18 169.4727"
      ]
     },
     "metadata": {},
     "output_type": "display_data"
    },
    {
     "data": {
      "text/html": [
       "<table class=\"dataframe\">\n",
       "<caption>A matrix: 6 × 1 of type dbl</caption>\n",
       "<tbody>\n",
       "\t<tr><th scope=row>Y13</th><td>172.6431</td></tr>\n",
       "\t<tr><th scope=row>Y14</th><td>177.5565</td></tr>\n",
       "\t<tr><th scope=row>Y15</th><td>178.6395</td></tr>\n",
       "\t<tr><th scope=row>Y16</th><td>178.6387</td></tr>\n",
       "\t<tr><th scope=row>Y17</th><td>178.7865</td></tr>\n",
       "\t<tr><th scope=row>Y18</th><td>178.5861</td></tr>\n",
       "</tbody>\n",
       "</table>\n"
      ],
      "text/latex": [
       "A matrix: 6 × 1 of type dbl\n",
       "\\begin{tabular}{r|l}\n",
       "\tY13 & 172.6431\\\\\n",
       "\tY14 & 177.5565\\\\\n",
       "\tY15 & 178.6395\\\\\n",
       "\tY16 & 178.6387\\\\\n",
       "\tY17 & 178.7865\\\\\n",
       "\tY18 & 178.5861\\\\\n",
       "\\end{tabular}\n"
      ],
      "text/markdown": [
       "\n",
       "A matrix: 6 × 1 of type dbl\n",
       "\n",
       "| Y13 | 172.6431 |\n",
       "| Y14 | 177.5565 |\n",
       "| Y15 | 178.6395 |\n",
       "| Y16 | 178.6387 |\n",
       "| Y17 | 178.7865 |\n",
       "| Y18 | 178.5861 |\n",
       "\n"
      ],
      "text/plain": [
       "    [,1]    \n",
       "Y13 172.6431\n",
       "Y14 177.5565\n",
       "Y15 178.6395\n",
       "Y16 178.6387\n",
       "Y17 178.7865\n",
       "Y18 178.5861"
      ]
     },
     "metadata": {},
     "output_type": "display_data"
    }
   ],
   "source": [
    "### f)\n",
    "\n",
    "yf1<-c(148.7, 156.6, 164.7)\n",
    "\n",
    "E<-Y-X%*%Theta%*%t(T) # residual matrix\n",
    "sigma <- (t(E) %*% E) / growth.model$df.residual\n",
    "\n",
    "E <- Y - X %*% Theta %*% t(T)\n",
    "Sigma<-t(E)%*%E/growth.model$df\n",
    "\n",
    "T1 <- T[1:3, ]\n",
    "T2 <- T[4:9, ]\n",
    "\n",
    "\n",
    "Sigma11<-Sigma[1:3,1:3]\n",
    "Sigma12<-Sigma[1:3,4:9]\n",
    "Sigma21<-Sigma[4:9,1:3]\n",
    "Sigma22<-Sigma[4:9,4:9]\n",
    "\n",
    "xf<-t(cbind(0,1)) # girls\n",
    "\n",
    "BP<- T2%*%t(Theta)%*%xf+Sigma21%*%solve(Sigma11)%*%(yf1-T1%*%t(Theta)%*%xf) # point predictions\n",
    "\n",
    "#       [,1]\n",
    "# Y13 170.6086\n",
    "# Y14 173.4954\n",
    "# Y15 174.0556\n",
    "# Y16 174.2373\n",
    "# Y17 174.2827\n",
    "# Y18 174.0294\n",
    "\n",
    "cov.error<-Sigma22-Sigma21%*%solve(Sigma11)%*%Sigma12 \n",
    "lower.bound<-BP-qnorm(0.9)*diag(cov.error)^0.5\n",
    "upper.bound<-BP+qnorm(0.9)*diag(cov.error)^0.5\n",
    "\n",
    "lower.bound\n",
    "upper.bound\n",
    "\n",
    "# > lower.bound\n",
    "#       [,1]\n",
    "# Y13 168.5741\n",
    "# Y14 169.4342\n",
    "# Y15 169.4717\n",
    "# Y16 169.8358\n",
    "# Y17 169.7788\n",
    "# Y18 169.4727\n",
    "\n",
    "# > upper.bound\n",
    "#       [,1]\n",
    "# Y13 172.6431\n",
    "# Y14 177.5565\n",
    "# Y15 178.6395\n",
    "# Y16 178.6387\n",
    "# Y17 178.7865\n",
    "# Y18 178.5861"
   ]
  },
  {
   "cell_type": "code",
   "execution_count": 7,
   "id": "colored-calendar",
   "metadata": {},
   "outputs": [
    {
     "name": "stderr",
     "output_type": "stream",
     "text": [
      "Loading required package: Matrix\n",
      "\n"
     ]
    }
   ],
   "source": [
    "### 2\n",
    "\n",
    "forest <- read.table(\"stageforest.txt\", sep=\"\\t\", dec=\".\", header=TRUE)\n",
    "attach(forest)\n",
    "\n",
    "library(lme4)\n",
    "\n",
    "Y <- cbind(dbhib.cm, height.m)\n",
    "\n",
    "y<-c(dbhib.cm,height.m) # vectorized Y\n",
    "variable<-c(rep(c(\"dbhib.cm\"), length(dbhib.cm)), rep(c(\"height.m\"), length(height.m))) \n",
    "dd<-data.frame(rbind(forest[,1:3], forest[,1:3]), variable, y)"
   ]
  },
  {
   "cell_type": "code",
   "execution_count": 8,
   "id": "aware-athletics",
   "metadata": {},
   "outputs": [
    {
     "name": "stderr",
     "output_type": "stream",
     "text": [
      "Warning message:\n",
      "\"Some predictor variables are on very different scales: consider rescaling\"\n",
      "Warning message in checkConv(attr(opt, \"derivs\"), opt$par, ctrl = control$checkConv, :\n",
      "\"Model failed to converge with max|grad| = 0.0612051 (tol = 0.002, component 1)\"\n"
     ]
    },
    {
     "data": {
      "text/plain": [
       "Linear mixed model fit by REML ['lmerMod']\n",
       "Formula: y ~ -1 + variable + variable:(Age + I(Age^2)) + (-1 + variable +  \n",
       "    variable:Age | Tree.ID)\n",
       "   Data: dd\n",
       "\n",
       "REML criterion at convergence: 4967.5\n",
       "\n",
       "Scaled residuals: \n",
       "    Min      1Q  Median      3Q     Max \n",
       "-5.3171 -0.5583 -0.0184  0.5345  3.1799 \n",
       "\n",
       "Random effects:\n",
       " Groups   Name                 Variance  Std.Dev. Corr             \n",
       " Tree.ID  variabledbhib.cm     40.796516 6.38722                   \n",
       "          variableheight.m     29.862871 5.46469   0.88            \n",
       "          variabledbhib.cm:Age  0.016300 0.12767  -0.32 -0.13      \n",
       "          variableheight.m:Age  0.007718 0.08785  -0.36 -0.24  0.85\n",
       " Residual                       2.552713 1.59772                   \n",
       "Number of obs: 1084, groups:  Tree.ID, 66\n",
       "\n",
       "Fixed effects:\n",
       "                            Estimate Std. Error t value\n",
       "variabledbhib.cm          -5.241e+00  8.368e-01  -6.263\n",
       "variableheight.m          -4.665e+00  7.286e-01  -6.403\n",
       "variabledbhib.cm:Age       7.443e-01  1.865e-02  39.911\n",
       "variableheight.m:Age       6.323e-01  1.457e-02  43.405\n",
       "variabledbhib.cm:I(Age^2) -1.381e-03  8.325e-05 -16.585\n",
       "variableheight.m:I(Age^2) -1.946e-03  7.911e-05 -24.592\n",
       "\n",
       "Correlation of Fixed Effects:\n",
       "              vrbld. vrblh. vrbld.:A vrblh.:A vrbld.:I(A^2)\n",
       "varblhght.m    0.779                                       \n",
       "vrbldbhb.:A   -0.424 -0.120                                \n",
       "vrblhght.:A   -0.271 -0.404  0.565                         \n",
       "vrbld.:I(A^2)  0.264  0.036 -0.493   -0.072                \n",
       "vrblh.:I(A^2)  0.034  0.298 -0.060   -0.619    0.155       \n",
       "fit warnings:\n",
       "Some predictor variables are on very different scales: consider rescaling\n",
       "optimizer (nloptwrap) convergence code: 0 (OK)\n",
       "Model failed to converge with max|grad| = 0.0612051 (tol = 0.002, component 1)\n"
      ]
     },
     "metadata": {},
     "output_type": "display_data"
    },
    {
     "data": {
      "text/html": [
       "<style>\n",
       ".dl-inline {width: auto; margin:0; padding: 0}\n",
       ".dl-inline>dt, .dl-inline>dd {float: none; width: auto; display: inline-block}\n",
       ".dl-inline>dt::after {content: \":\\0020\"; padding-right: .5ex}\n",
       ".dl-inline>dt:not(:first-of-type) {padding-left: .5ex}\n",
       "</style><dl class=dl-inline><dt>variabledbhib.cm</dt><dd>-5.24121460472101</dd><dt>variableheight.m</dt><dd>-4.6651412119703</dd><dt>variabledbhib.cm:Age</dt><dd>0.744258452197843</dd><dt>variableheight.m:Age</dt><dd>0.632296618260173</dd><dt>variabledbhib.cm:I(Age^2)</dt><dd>-0.00138070246343056</dd><dt>variableheight.m:I(Age^2)</dt><dd>-0.00194551831074788</dd></dl>\n"
      ],
      "text/latex": [
       "\\begin{description*}\n",
       "\\item[variabledbhib.cm] -5.24121460472101\n",
       "\\item[variableheight.m] -4.6651412119703\n",
       "\\item[variabledbhib.cm:Age] 0.744258452197843\n",
       "\\item[variableheight.m:Age] 0.632296618260173\n",
       "\\item[variabledbhib.cm:I(Age\\textbackslash{}textasciicircum\\{\\}2)] -0.00138070246343056\n",
       "\\item[variableheight.m:I(Age\\textbackslash{}textasciicircum\\{\\}2)] -0.00194551831074788\n",
       "\\end{description*}\n"
      ],
      "text/markdown": [
       "variabledbhib.cm\n",
       ":   -5.24121460472101variableheight.m\n",
       ":   -4.6651412119703variabledbhib.cm:Age\n",
       ":   0.744258452197843variableheight.m:Age\n",
       ":   0.632296618260173variabledbhib.cm:I(Age^2)\n",
       ":   -0.00138070246343056variableheight.m:I(Age^2)\n",
       ":   -0.00194551831074788\n",
       "\n"
      ],
      "text/plain": [
       "         variabledbhib.cm          variableheight.m      variabledbhib.cm:Age \n",
       "             -5.241214605              -4.665141212               0.744258452 \n",
       "     variableheight.m:Age variabledbhib.cm:I(Age^2) variableheight.m:I(Age^2) \n",
       "              0.632296618              -0.001380702              -0.001945518 "
      ]
     },
     "metadata": {},
     "output_type": "display_data"
    },
    {
     "data": {
      "text/plain": [
       "$Tree.ID\n",
       "   variabledbhib.cm variableheight.m variabledbhib.cm:Age variableheight.m:Age\n",
       "1         4.1838763       0.88398106          0.013492254        -0.0514831838\n",
       "2         3.8164435      -0.38327335         -0.104750827        -0.1050548684\n",
       "3        11.3279815       6.13219280         -0.012023132        -0.0539099097\n",
       "4         4.2378341       2.56726864         -0.027525768        -0.0309003239\n",
       "5        -3.3065060      -2.82676349         -0.022406110        -0.0098803972\n",
       "6         3.0598645       5.59830518         -0.041236752        -0.0479347177\n",
       "7         3.8425253       7.66150283          0.160149327         0.0597989876\n",
       "11        0.3360582       0.51558160         -0.189789166        -0.1488280731\n",
       "12        0.5836785      -1.16031125         -0.049346980        -0.0597513260\n",
       "13       -3.1503279      -3.88864520         -0.020464258        -0.0134522705\n",
       "15        6.7417546       6.38753140         -0.211673368        -0.1211531509\n",
       "17        6.5349128       5.95784736         -0.115985303        -0.1374025515\n",
       "18       -2.3345193      -1.05479297          0.083107177         0.0914850776\n",
       "19      -18.8586300     -15.90554624          0.029220894         0.0777014781\n",
       "28        8.0533925       7.47931812          0.017606357         0.0068395834\n",
       "29       -6.5330155      -2.43503514          0.207957999         0.2134022741\n",
       "30        9.4450227       8.15354118         -0.081236159        -0.0365167426\n",
       "31       -5.9220823       4.25032416          0.144510846         0.0971200565\n",
       "32        3.0338738       3.46924417          0.394645146         0.2091267232\n",
       "33        3.9559235       4.16019173          0.169086314         0.1518995978\n",
       "34        3.7673038       0.38677775          0.120012920         0.1080142838\n",
       "35        3.0165401       2.74805808          0.035400979         0.0218058783\n",
       "36        2.4347948       1.45976537         -0.197419104        -0.1174589363\n",
       "37        0.2189440       1.00193009         -0.049204889         0.0005009758\n",
       "38        5.9946378       3.05666782         -0.037070829        -0.1013463193\n",
       "39        4.8095982       0.46015729         -0.067470350        -0.0426916224\n",
       "40       -0.9555318      -2.16970445         -0.192026859        -0.1236915387\n",
       "41       -0.2059491       0.76727132          0.141841635         0.0763890695\n",
       "42       -3.4656933      -2.65996598          0.167482297         0.0716066709\n",
       "43        1.0074918       0.68600845         -0.120623957        -0.0484009958\n",
       "44      -13.4017213     -11.22568768          0.039826210        -0.0067079182\n",
       "45       -7.9794729      -7.88239054         -0.093644849        -0.0539022492\n",
       "46       -0.1526281      -0.41948768          0.003125397        -0.0258986357\n",
       "47       -1.2219498      -1.48985536         -0.004889923         0.0201347603\n",
       "48       -1.0518001       1.35812076         -0.036196364        -0.0441506462\n",
       "49       -7.0120601      -6.73562678          0.010954065         0.0765446820\n",
       "50       -0.7712087       0.01186441          0.045286512         0.0716269093\n",
       "51       -7.5884979      -8.00442445         -0.098621285        -0.0461887451\n",
       "52        4.9533454       0.53248816         -0.221487820        -0.0701046547\n",
       "53       -1.6805676      -0.99310498          0.004653539        -0.0554627400\n",
       "54        0.6425362       1.10999722         -0.063909219         0.0152227987\n",
       "55        1.4069879       1.04087464          0.033028393         0.0607020994\n",
       "56        0.9887313       3.35315990          0.091929302         0.0892423041\n",
       "57        3.1832706       4.79254520          0.035280826        -0.0463079142\n",
       "58        3.9691061       2.89177181         -0.037972387        -0.0328748687\n",
       "59        0.8413498       3.42092673         -0.024181402         0.0126570520\n",
       "60        1.7745420       1.08538130          0.054269408        -0.0310876153\n",
       "61        6.7412023       2.39997113         -0.040528802         0.0127038390\n",
       "62        2.6752383       1.63972631         -0.132400623        -0.0371517601\n",
       "63        2.7493823       0.47229266         -0.073307857        -0.0512210324\n",
       "64        1.0470768       0.76205931         -0.087726025        -0.0166137516\n",
       "65       -1.6798453      -2.53265160          0.036103281         0.0195689774\n",
       "66       -1.3658419       1.01939626          0.037740905        -0.0427947604\n",
       "67        1.9210841      -0.87355659         -0.215311065        -0.1103773047\n",
       "68      -17.2544526     -15.58760859          0.167125422         0.1317667746\n",
       "69       -0.1292014      -1.93009207          0.034865600         0.0120464494\n",
       "70        8.8003945       5.68368227          0.036166591         0.0221576928\n",
       "71      -17.4762981     -15.69691988          0.101902459         0.0236420174\n",
       "72      -10.7805830      -6.11656281          0.238015703         0.1347232548\n",
       "73        2.0448197       3.71456462          0.310951865         0.1572366909\n",
       "74       -2.0953342      -0.53025541          0.134482861         0.1442153817\n",
       "75        4.8708813       5.58735521         -0.109720424        -0.0716381023\n",
       "76        9.5329780       5.47738661         -0.158027659        -0.1338225013\n",
       "77       -1.2601580       0.43308732         -0.111124793         0.0086731863\n",
       "84      -10.2378019     -11.25330991         -0.026202792        -0.0144263891\n",
       "85       -0.6737009       3.18545418         -0.024715389        -0.0579670098\n",
       "\n",
       "with conditional variances for \"Tree.ID\" "
      ]
     },
     "metadata": {},
     "output_type": "display_data"
    },
    {
     "data": {
      "image/png": "[encoded data removed]",
      "text/plain": [
       "plot without title"
      ]
     },
     "metadata": {
      "image/png": {
       "height": 420,
       "width": 420
      }
     },
     "output_type": "display_data"
    },
    {
     "data": {
      "image/png": "[encoded data removed]",
      "text/plain": [
       "plot without title"
      ]
     },
     "metadata": {
      "image/png": {
       "height": 420,
       "width": 420
      }
     },
     "output_type": "display_data"
    }
   ],
   "source": [
    "## a)\n",
    "\n",
    "model<-lmer(y ~ -1 + variable + variable:(Age+I(Age^2)) + (-1+variable+variable:Age|Tree.ID), data=dd)\n",
    "summary(model)\n",
    "fixef(model)\n",
    "B<-matrix(fixef(model), nrow=3,ncol=2, by=1)\n",
    "\n",
    "#           [,1]         [,2]\n",
    "# [1,] -5.241214605 -4.665141212\n",
    "# [2,]  0.744258452  0.632296618\n",
    "# [3,] -0.001380702 -0.001945518\n",
    "\n",
    "ranef(model)\n",
    "\n",
    "pred<-predict(model, newdata=dd)\n",
    "\n",
    "plot(c(0,200), c(0,100), type=\"n\")\n",
    "lines(dd$Age[Tree.ID==1][1:5],pred[Tree.ID==1][1:5], col=\"red\")\n",
    "lines(dd$Age[Tree.ID==2][1:10],pred[Tree.ID==2][1:10], col=\"red\")\n",
    "\n",
    "plot(c(0,200), c(0,100), type=\"n\")\n",
    "lines(dd$Age[Tree.ID==1][6:10],pred[Tree.ID==1][6:10], col=\"blue\")\n",
    "lines(dd$Age[Tree.ID==2][11:20],pred[Tree.ID==2][11:20], col=\"blue\")"
   ]
  },
  {
   "cell_type": "code",
   "execution_count": 9,
   "id": "iraqi-handbook",
   "metadata": {},
   "outputs": [
    {
     "data": {
      "text/html": [
       "<table class=\"dataframe\">\n",
       "<caption>A matrix: 6 × 6 of type dbl</caption>\n",
       "<thead>\n",
       "\t<tr><th></th><th scope=col>variabledbhib.cm</th><th scope=col>variableheight.m</th><th scope=col>variabledbhib.cm:Age</th><th scope=col>variableheight.m:Age</th><th scope=col>variabledbhib.cm:I(Age^2)</th><th scope=col>variableheight.m:I(Age^2)</th></tr>\n",
       "</thead>\n",
       "<tbody>\n",
       "\t<tr><th scope=row>1</th><td>1</td><td>0</td><td> 55</td><td>0</td><td> 3025</td><td>0</td></tr>\n",
       "\t<tr><th scope=row>2</th><td>1</td><td>0</td><td> 45</td><td>0</td><td> 2025</td><td>0</td></tr>\n",
       "\t<tr><th scope=row>3</th><td>1</td><td>0</td><td> 35</td><td>0</td><td> 1225</td><td>0</td></tr>\n",
       "\t<tr><th scope=row>4</th><td>1</td><td>0</td><td> 25</td><td>0</td><td>  625</td><td>0</td></tr>\n",
       "\t<tr><th scope=row>5</th><td>1</td><td>0</td><td> 15</td><td>0</td><td>  225</td><td>0</td></tr>\n",
       "\t<tr><th scope=row>6</th><td>1</td><td>0</td><td>107</td><td>0</td><td>11449</td><td>0</td></tr>\n",
       "</tbody>\n",
       "</table>\n"
      ],
      "text/latex": [
       "A matrix: 6 × 6 of type dbl\n",
       "\\begin{tabular}{r|llllll}\n",
       "  & variabledbhib.cm & variableheight.m & variabledbhib.cm:Age & variableheight.m:Age & variabledbhib.cm:I(Age\\textasciicircum{}2) & variableheight.m:I(Age\\textasciicircum{}2)\\\\\n",
       "\\hline\n",
       "\t1 & 1 & 0 &  55 & 0 &  3025 & 0\\\\\n",
       "\t2 & 1 & 0 &  45 & 0 &  2025 & 0\\\\\n",
       "\t3 & 1 & 0 &  35 & 0 &  1225 & 0\\\\\n",
       "\t4 & 1 & 0 &  25 & 0 &   625 & 0\\\\\n",
       "\t5 & 1 & 0 &  15 & 0 &   225 & 0\\\\\n",
       "\t6 & 1 & 0 & 107 & 0 & 11449 & 0\\\\\n",
       "\\end{tabular}\n"
      ],
      "text/markdown": [
       "\n",
       "A matrix: 6 × 6 of type dbl\n",
       "\n",
       "| <!--/--> | variabledbhib.cm | variableheight.m | variabledbhib.cm:Age | variableheight.m:Age | variabledbhib.cm:I(Age^2) | variableheight.m:I(Age^2) |\n",
       "|---|---|---|---|---|---|---|\n",
       "| 1 | 1 | 0 |  55 | 0 |  3025 | 0 |\n",
       "| 2 | 1 | 0 |  45 | 0 |  2025 | 0 |\n",
       "| 3 | 1 | 0 |  35 | 0 |  1225 | 0 |\n",
       "| 4 | 1 | 0 |  25 | 0 |   625 | 0 |\n",
       "| 5 | 1 | 0 |  15 | 0 |   225 | 0 |\n",
       "| 6 | 1 | 0 | 107 | 0 | 11449 | 0 |\n",
       "\n"
      ],
      "text/plain": [
       "  variabledbhib.cm variableheight.m variabledbhib.cm:Age variableheight.m:Age\n",
       "1 1                0                 55                  0                   \n",
       "2 1                0                 45                  0                   \n",
       "3 1                0                 35                  0                   \n",
       "4 1                0                 25                  0                   \n",
       "5 1                0                 15                  0                   \n",
       "6 1                0                107                  0                   \n",
       "  variabledbhib.cm:I(Age^2) variableheight.m:I(Age^2)\n",
       "1  3025                     0                        \n",
       "2  2025                     0                        \n",
       "3  1225                     0                        \n",
       "4   625                     0                        \n",
       "5   225                     0                        \n",
       "6 11449                     0                        "
      ]
     },
     "metadata": {},
     "output_type": "display_data"
    },
    {
     "data": {
      "text/html": [
       "<table class=\"dataframe\">\n",
       "<caption>A matrix: 2 × 2 of type dbl</caption>\n",
       "<tbody>\n",
       "\t<tr><td>2.0403088</td><td>0.7825632</td></tr>\n",
       "\t<tr><td>0.7825632</td><td>2.0171253</td></tr>\n",
       "</tbody>\n",
       "</table>\n"
      ],
      "text/latex": [
       "A matrix: 2 × 2 of type dbl\n",
       "\\begin{tabular}{ll}\n",
       "\t 2.0403088 & 0.7825632\\\\\n",
       "\t 0.7825632 & 2.0171253\\\\\n",
       "\\end{tabular}\n"
      ],
      "text/markdown": [
       "\n",
       "A matrix: 2 × 2 of type dbl\n",
       "\n",
       "| 2.0403088 | 0.7825632 |\n",
       "| 0.7825632 | 2.0171253 |\n",
       "\n"
      ],
      "text/plain": [
       "     [,1]      [,2]     \n",
       "[1,] 2.0403088 0.7825632\n",
       "[2,] 0.7825632 2.0171253"
      ]
     },
     "metadata": {},
     "output_type": "display_data"
    },
    {
     "data": {
      "text/html": [
       "<table class=\"dataframe\">\n",
       "<caption>A matrix: 2 × 2 of type dbl</caption>\n",
       "<tbody>\n",
       "\t<tr><td>1.0000000</td><td>0.3857492</td></tr>\n",
       "\t<tr><td>0.3857492</td><td>1.0000000</td></tr>\n",
       "</tbody>\n",
       "</table>\n"
      ],
      "text/latex": [
       "A matrix: 2 × 2 of type dbl\n",
       "\\begin{tabular}{ll}\n",
       "\t 1.0000000 & 0.3857492\\\\\n",
       "\t 0.3857492 & 1.0000000\\\\\n",
       "\\end{tabular}\n"
      ],
      "text/markdown": [
       "\n",
       "A matrix: 2 × 2 of type dbl\n",
       "\n",
       "| 1.0000000 | 0.3857492 |\n",
       "| 0.3857492 | 1.0000000 |\n",
       "\n"
      ],
      "text/plain": [
       "     [,1]      [,2]     \n",
       "[1,] 1.0000000 0.3857492\n",
       "[2,] 0.3857492 1.0000000"
      ]
     },
     "metadata": {},
     "output_type": "display_data"
    }
   ],
   "source": [
    "## b)\n",
    "\n",
    "n<-dim(Y)[1]\n",
    "X<-model.matrix(model)\n",
    "head(X)\n",
    "\n",
    "E<-matrix(residuals(model), nrow=dim(Y)[1], ncol=2, by=2)\n",
    "Sigma<-t(E)%*%E/(n-3)\n",
    "Sigma\n",
    "\n",
    "#         [,1]      [,2]\n",
    "# [1,] 2.0403088 0.7825632\n",
    "# [2,] 0.7825632 2.0171253\n",
    "\n",
    "diag(diag(Sigma)^{-0.5})%*%Sigma%*%diag(diag(Sigma)^{-0.5})"
   ]
  },
  {
   "cell_type": "code",
   "execution_count": 10,
   "id": "incorrect-recycling",
   "metadata": {},
   "outputs": [
    {
     "data": {
      "text/html": [
       "<table class=\"dataframe\">\n",
       "<caption>A matrix: 3 × 2 of type dbl</caption>\n",
       "<thead>\n",
       "\t<tr><th></th><th scope=col>1</th><th scope=col>2</th></tr>\n",
       "</thead>\n",
       "<tbody>\n",
       "\t<tr><th scope=row>yflower.bound</th><td>33.16618</td><td>24.96196</td></tr>\n",
       "\t<tr><th scope=row>yfhat</th><td>34.99674</td><td>26.78209</td></tr>\n",
       "\t<tr><th scope=row>yfupper.bound</th><td>36.82730</td><td>28.60222</td></tr>\n",
       "</tbody>\n",
       "</table>\n"
      ],
      "text/latex": [
       "A matrix: 3 × 2 of type dbl\n",
       "\\begin{tabular}{r|ll}\n",
       "  & 1 & 2\\\\\n",
       "\\hline\n",
       "\tyflower.bound & 33.16618 & 24.96196\\\\\n",
       "\tyfhat & 34.99674 & 26.78209\\\\\n",
       "\tyfupper.bound & 36.82730 & 28.60222\\\\\n",
       "\\end{tabular}\n"
      ],
      "text/markdown": [
       "\n",
       "A matrix: 3 × 2 of type dbl\n",
       "\n",
       "| <!--/--> | 1 | 2 |\n",
       "|---|---|---|\n",
       "| yflower.bound | 33.16618 | 24.96196 |\n",
       "| yfhat | 34.99674 | 26.78209 |\n",
       "| yfupper.bound | 36.82730 | 28.60222 |\n",
       "\n"
      ],
      "text/plain": [
       "              1        2       \n",
       "yflower.bound 33.16618 24.96196\n",
       "yfhat         34.99674 26.78209\n",
       "yfupper.bound 36.82730 28.60222"
      ]
     },
     "metadata": {},
     "output_type": "display_data"
    }
   ],
   "source": [
    "## c)\n",
    "\n",
    "newdata<-data.frame(variable=c(\"dbhib.cm\", \"height.m\"), Age=97, Tree.ID=67)\n",
    "muf<-predict(model, newdata=newdata, re.form=NA) # estimate-we consider only the fixed effects\n",
    "#     1        2 \n",
    "# 53.96083 38.36225 \n",
    "\n",
    "yfhat<-predict(model, newdata=newdata) # prediction: FE+RE\n",
    "#   1        2 \n",
    "# 34.99674 26.78209\n",
    "\n",
    "yflower.bound<-qnorm(0.1, mean=yfhat, sd=(diag(Sigma)^(0.5)))\n",
    "yfupper.bound<-qnorm(0.9, mean=yfhat, sd=(diag(Sigma)^(0.5)))\n",
    "\n",
    "rbind(yflower.bound,yfhat,yfupper.bound)\n",
    "\n",
    "#                   1        2\n",
    "# yflower.bound 33.16618 24.96196\n",
    "# yfhat         34.99674 26.78209\n",
    "# yfupper.bound 36.82730 28.60222\n"
   ]
  },
  {
   "cell_type": "code",
   "execution_count": 11,
   "id": "binding-treat",
   "metadata": {},
   "outputs": [
    {
     "data": {
      "text/html": [
       "<table class=\"dataframe\">\n",
       "<caption>A matrix: 1 × 1 of type dbl</caption>\n",
       "<tbody>\n",
       "\t<tr><td>25.29586</td></tr>\n",
       "</tbody>\n",
       "</table>\n"
      ],
      "text/latex": [
       "A matrix: 1 × 1 of type dbl\n",
       "\\begin{tabular}{l}\n",
       "\t 25.29586\\\\\n",
       "\\end{tabular}\n"
      ],
      "text/markdown": [
       "\n",
       "A matrix: 1 × 1 of type dbl\n",
       "\n",
       "| 25.29586 |\n",
       "\n"
      ],
      "text/plain": [
       "     [,1]    \n",
       "[1,] 25.29586"
      ]
     },
     "metadata": {},
     "output_type": "display_data"
    },
    {
     "data": {
      "text/html": [
       "<table class=\"dataframe\">\n",
       "<caption>A matrix: 1 × 1 of type dbl</caption>\n",
       "<tbody>\n",
       "\t<tr><td>28.65438</td></tr>\n",
       "</tbody>\n",
       "</table>\n"
      ],
      "text/latex": [
       "A matrix: 1 × 1 of type dbl\n",
       "\\begin{tabular}{l}\n",
       "\t 28.65438\\\\\n",
       "\\end{tabular}\n"
      ],
      "text/markdown": [
       "\n",
       "A matrix: 1 × 1 of type dbl\n",
       "\n",
       "| 28.65438 |\n",
       "\n"
      ],
      "text/plain": [
       "     [,1]    \n",
       "[1,] 28.65438"
      ]
     },
     "metadata": {},
     "output_type": "display_data"
    }
   ],
   "source": [
    "### d)\n",
    "\n",
    "y1f<-c(35.5)\n",
    "Sigma11<-Sigma[1,1]\n",
    "Sigma12<-Sigma[1,2]\n",
    "Sigma21<-Sigma[2,1]\n",
    "Sigma22<-Sigma[2,2]\n",
    "\n",
    "BP<-yfhat[2]+Sigma21%*%solve(Sigma11)%*%(y1f-yfhat[1]) # point prediction\n",
    "# 26.97512\n",
    "\n",
    "cov.error<-Sigma22-Sigma21%*%solve(Sigma11)%*%Sigma12\n",
    "\n",
    "lower.bound<-BP-qnorm(0.9)*diag(cov.error)^0.5\n",
    "upper.bound<-BP+qnorm(0.9)*diag(cov.error)^0.5\n",
    "lower.bound\n",
    "upper.bound\n",
    "\n",
    "# > lower.bound\n",
    "# [,1]\n",
    "# [1,] 25.29586\n",
    "# > upper.bound\n",
    "# [,1]\n",
    "# [1,] 28.65438\n"
   ]
  },
  {
   "cell_type": "code",
   "execution_count": null,
   "id": "terminal-skirt",
   "metadata": {},
   "outputs": [],
   "source": []
  }
 ],
 "metadata": {
  "kernelspec": {
   "display_name": "R",
   "language": "R",
   "name": "ir"
  },
  "language_info": {
   "codemirror_mode": "r",
   "file_extension": ".r",
   "mimetype": "text/x-r-source",
   "name": "R",
   "pygments_lexer": "r",
   "version": "4.1.3"
  }
 },
 "nbformat": 4,
 "nbformat_minor": 5
}
